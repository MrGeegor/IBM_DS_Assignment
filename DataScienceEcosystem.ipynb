{
 "cells": [
  {
   "cell_type": "markdown",
   "id": "5c5ad938-fd39-487d-a24e-77f5ed870b10",
   "metadata": {
    "tags": []
   },
   "source": [
    "# Data Science Tools and Ecosystem"
   ]
  },
  {
   "cell_type": "markdown",
   "id": "d0f7e985-1ce3-496b-9a03-908dfd13d0c7",
   "metadata": {},
   "source": [
    "In this notebook, Data Science Tools and Ecosystem are summarized."
   ]
  },
  {
   "cell_type": "markdown",
   "id": "80950e46-dc52-4aa7-ab63-f1b6c9e2824f",
   "metadata": {},
   "source": [
    "**Objectives:** \n",
    "* Popular DS languages \n",
    "* Commonly used DS libraries \n",
    "* Common DS tools \n",
    "* Arithmetic expressions in Python "
   ]
  },
  {
   "cell_type": "markdown",
   "id": "01083957-c101-46a7-9b7b-a79283ddf878",
   "metadata": {},
   "source": [
    "Some of the popular languages that Data Scientists use are: \n",
    "1. Python \n",
    "2. R \n",
    "3. Julia "
   ]
  },
  {
   "cell_type": "markdown",
   "id": "1e2f1460-c059-42ee-93ab-6b3f2a29580a",
   "metadata": {},
   "source": [
    "Some of the commonly used libraries used by Data Scientists include:\n",
    "* pandas \n",
    "* NumPy \n",
    "* Matplotlib"
   ]
  },
  {
   "cell_type": "markdown",
   "id": "d4d0a1e9-67c0-49e3-81fc-433b3111df16",
   "metadata": {
    "tags": []
   },
   "source": [
    "| Data Science Tools |\n",
    "| --- |\n",
    "| JupyterLab |\n",
    "| Apache Zeppelin | \n",
    "| R Studio | "
   ]
  },
  {
   "cell_type": "markdown",
   "id": "6b1a12ef-6c54-4f0a-b879-de2e36c5c2ab",
   "metadata": {},
   "source": [
    "### Below are a few examples of evaluating arithmetic expressions in Python"
   ]
  },
  {
   "cell_type": "code",
   "execution_count": 1,
   "id": "4c822c1b-6b4a-47b9-9fc0-1d72956c918a",
   "metadata": {
    "tags": []
   },
   "outputs": [
    {
     "data": {
      "text/plain": [
       "17"
      ]
     },
     "execution_count": 1,
     "metadata": {},
     "output_type": "execute_result"
    }
   ],
   "source": [
    "# This a simple arithmetic expression to mutiply then add integers\n",
    "(3*4)+5"
   ]
  },
  {
   "cell_type": "code",
   "execution_count": 2,
   "id": "9c81dbb5-c127-4914-9307-e3dbc36ebba6",
   "metadata": {
    "tags": []
   },
   "outputs": [
    {
     "data": {
      "text/plain": [
       "3.3333333333333335"
      ]
     },
     "execution_count": 2,
     "metadata": {},
     "output_type": "execute_result"
    }
   ],
   "source": [
    "# This will convert 200 minutes to hours by diving by 60\n",
    "200/60"
   ]
  },
  {
   "cell_type": "markdown",
   "id": "ba519880-a886-4335-9053-f4d0cf6e96ce",
   "metadata": {
    "tags": []
   },
   "source": [
    "## Author\n",
    "Thierry Baudez"
   ]
  },
  {
   "cell_type": "code",
   "execution_count": null,
   "id": "15215106-0482-4372-b7cf-e2c055c26168",
   "metadata": {},
   "outputs": [],
   "source": []
  }
 ],
 "metadata": {
  "kernelspec": {
   "display_name": "Python",
   "language": "python",
   "name": "conda-env-python-py"
  },
  "language_info": {
   "codemirror_mode": {
    "name": "ipython",
    "version": 3
   },
   "file_extension": ".py",
   "mimetype": "text/x-python",
   "name": "python",
   "nbconvert_exporter": "python",
   "pygments_lexer": "ipython3",
   "version": "3.7.12"
  }
 },
 "nbformat": 4,
 "nbformat_minor": 5
}
